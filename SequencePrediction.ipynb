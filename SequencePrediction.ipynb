{
  "nbformat": 4,
  "nbformat_minor": 0,
  "metadata": {
    "kernelspec": {
      "name": "python3",
      "display_name": "Python 3"
    },
    "toc": {
      "colors": {
        "hover_highlight": "#DAA520",
        "running_highlight": "#FF0000",
        "selected_highlight": "#FFD700"
      },
      "moveMenuLeft": true,
      "nav_menu": {
        "height": "264px",
        "width": "252px"
      },
      "navigate_menu": true,
      "number_sections": true,
      "sideBar": true,
      "threshold": "5",
      "toc_cell": false,
      "toc_section_display": "block",
      "toc_window_display": false
    },
    "colab": {
      "name": "SequencePrediction.ipynb",
      "provenance": [],
      "collapsed_sections": [],
      "toc_visible": true
    },
    "accelerator": "GPU"
  },
  "cells": [
    {
      "cell_type": "markdown",
      "metadata": {
        "id": "crOQ7QBjhrgV",
        "colab_type": "text"
      },
      "source": [
        "# Sequence Prediction: Surname Generation"
      ]
    },
    {
      "cell_type": "markdown",
      "metadata": {
        "colab_type": "text",
        "id": "a7mWak9NZqsE"
      },
      "source": [
        "In this experiment, you will explore a simple sequence prediction task: Text generation using a Gated Recurrent Unit (GRU). Like the LSTM, this is a  gated recurrent neural network, but since it has fewer parameters, it should be more appropriate for a smaller dataset.\n",
        "\n",
        "The GRU computes a probability distribution over the set of possible characters in the surname vocabulary for each time step. We use these probability distributions to generate new surnames. You are given a starter code, that trains a SurnameGenerationModel on the [surname dataset](https://github.com/jasoriya/CS6120-PS2-support/blob/master/data/surnames/surnames_with_splits.csv) to generate new surnames by learning from the training data. \n",
        "\n"
      ]
    },
    {
      "cell_type": "markdown",
      "metadata": {
        "id": "TJkLtjvSaf5P",
        "colab_type": "text"
      },
      "source": [
        "Your task is to understand this code and plot the over all perplxity of GRU model as a function of the hidden representation size (K) and the number of characters already observed. You will see **TODO** prompts in the following cells"
      ]
    },
    {
      "cell_type": "markdown",
      "metadata": {
        "id": "YEjYmZ5Shrgb",
        "colab_type": "text"
      },
      "source": [
        "## Imports"
      ]
    },
    {
      "cell_type": "code",
      "metadata": {
        "id": "DIbXsKQLhrgd",
        "colab_type": "code",
        "colab": {}
      },
      "source": [
        "import os\n",
        "from argparse import Namespace\n",
        "import matplotlib.pyplot as plt\n",
        "\n",
        "import numpy as np\n",
        "import httpimport\n",
        "import torch\n",
        "import torch.optim as optim\n",
        "import torch.nn.functional as F\n",
        "from tqdm import tqdm_notebook\n",
        "\n",
        "# import data preprocessing and modeling functions from https://github.com/jasoriya/CS6120-PS2-support/tree/master/utils\n",
        "with httpimport.remote_repo(['data_vectorization','model','helper'], 'https://raw.githubusercontent.com/jasoriya/CS6120-PS2-support/master/utils/'):\n",
        "  from data_vectorization import Vocabulary, SequenceVocabulary, SurnameVectorizer, SurnameDataset, generate_batches\n",
        "  from model import SurnameGenerationModel, sample_from_model, decode_samples\n",
        "  from helper import make_train_state, update_train_state, normalize_sizes, compute_accuracy, sequence_loss, set_seed_everywhere, handle_dirs\n"
      ],
      "execution_count": 0,
      "outputs": []
    },
    {
      "cell_type": "markdown",
      "metadata": {
        "id": "rwQ3H6hhhrhM",
        "colab_type": "text"
      },
      "source": [
        "### Settings and some prep work\n",
        "\n",
        "**TODO**: \n",
        "- Give path to a directory where the model should be saved\n",
        "- Give hidden state size (`rnn_hidden_size`) for the GRU model (experiment with different levels)\n"
      ]
    },
    {
      "cell_type": "code",
      "metadata": {
        "id": "B6ELbWoHhrhN",
        "colab_type": "code",
        "outputId": "46d17f0a-aece-431f-927d-0f46894f6a0d",
        "colab": {
          "base_uri": "https://localhost:8080/",
          "height": 87
        }
      },
      "source": [
        "args = Namespace(\n",
        "    # Data and Path information\n",
        "    surname_csv=\"https://raw.githubusercontent.com/jasoriya/CS6120-PS2-support/master/data/surnames/surnames_with_splits.csv\",\n",
        "    vectorizer_file=\"vectorizer.json\",\n",
        "    model_state_file=\"model.pth\",\n",
        "    save_dir= \"./model_2/\", # give path here\n",
        "    # Model hyper parameters\n",
        "    char_embedding_size=32,\n",
        "    rnn_hidden_size= 2, # give hidden size\n",
        "    # Training hyper parameters\n",
        "    seed=1337,\n",
        "    learning_rate=0.001,\n",
        "    batch_size=128,\n",
        "    num_epochs=100,\n",
        "    early_stopping_criteria=5,\n",
        "    # Runtime options\n",
        "    catch_keyboard_interrupt=True,\n",
        "    cuda=True,\n",
        "    expand_filepaths_to_save_dir=True,\n",
        "    reload_from_files=False, # can be changed as we feel like\n",
        ")\n",
        "\n",
        "if args.expand_filepaths_to_save_dir:\n",
        "    args.vectorizer_file = os.path.join(args.save_dir,\n",
        "                                        args.vectorizer_file)\n",
        "\n",
        "    args.model_state_file = os.path.join(args.save_dir,\n",
        "                                         args.model_state_file)\n",
        "    \n",
        "    print(\"Expanded filepaths: \")\n",
        "    print(\"\\t{}\".format(args.vectorizer_file))\n",
        "    print(\"\\t{}\".format(args.model_state_file))\n",
        "    \n",
        "    \n",
        "# Check CUDA\n",
        "if not torch.cuda.is_available():\n",
        "    args.cuda = False\n",
        "\n",
        "args.device = torch.device(\"cuda\" if args.cuda else \"cpu\")\n",
        "    \n",
        "print(\"Using CUDA: {}\".format(args.cuda))\n",
        "\n",
        "# Set seed for reproducibility\n",
        "set_seed_everywhere(args.seed, args.cuda)\n",
        "\n",
        "# handle dirs\n",
        "handle_dirs(args.save_dir)"
      ],
      "execution_count": 0,
      "outputs": [
        {
          "output_type": "stream",
          "text": [
            "Expanded filepaths: \n",
            "\t./model_2/vectorizer.json\n",
            "\t./model_2/model.pth\n",
            "Using CUDA: True\n"
          ],
          "name": "stdout"
        }
      ]
    },
    {
      "cell_type": "markdown",
      "metadata": {
        "id": "eK7rHgKPhrhS",
        "colab_type": "text"
      },
      "source": [
        "### Initializations"
      ]
    },
    {
      "cell_type": "code",
      "metadata": {
        "id": "0zdUk04AhrhT",
        "colab_type": "code",
        "colab": {}
      },
      "source": [
        "if args.reload_from_files:\n",
        "    # training from a checkpoint\n",
        "    dataset = SurnameDataset.load_dataset_and_load_vectorizer(args.surname_csv,\n",
        "                                                              args.vectorizer_file)\n",
        "else:\n",
        "    # create dataset and vectorizer\n",
        "    dataset = SurnameDataset.load_dataset_and_make_vectorizer(args.surname_csv)\n",
        "    dataset.save_vectorizer(args.vectorizer_file)\n",
        "\n",
        "vectorizer = dataset.get_vectorizer()\n",
        "\n",
        "model = SurnameGenerationModel(char_embedding_size=args.char_embedding_size,\n",
        "                               char_vocab_size=len(vectorizer.char_vocab),\n",
        "                               rnn_hidden_size=args.rnn_hidden_size,\n",
        "                               padding_idx=vectorizer.char_vocab.mask_index)"
      ],
      "execution_count": 0,
      "outputs": []
    },
    {
      "cell_type": "code",
      "metadata": {
        "id": "VnazsqycVGRd",
        "colab_type": "code",
        "outputId": "99c4837d-15a9-4901-d4ce-b31c2f4f5497",
        "colab": {
          "base_uri": "https://localhost:8080/",
          "height": 105
        }
      },
      "source": [
        "model.parameters"
      ],
      "execution_count": 0,
      "outputs": [
        {
          "output_type": "execute_result",
          "data": {
            "text/plain": [
              "<bound method Module.parameters of SurnameGenerationModel(\n",
              "  (char_emb): Embedding(88, 32, padding_idx=0)\n",
              "  (rnn): GRU(32, 2, batch_first=True)\n",
              "  (fc): Linear(in_features=2, out_features=88, bias=True)\n",
              ")>"
            ]
          },
          "metadata": {
            "tags": []
          },
          "execution_count": 14
        }
      ]
    },
    {
      "cell_type": "markdown",
      "metadata": {
        "id": "Wy5dwODVhrhX",
        "colab_type": "text"
      },
      "source": [
        "### Training loop"
      ]
    },
    {
      "cell_type": "code",
      "metadata": {
        "id": "peGToMKYIcgt",
        "colab_type": "code",
        "colab": {}
      },
      "source": [
        "mask_index = vectorizer.char_vocab.mask_index\n",
        "\n",
        "model = model.to(args.device)\n",
        "\n",
        "\n",
        "optimizer = optim.Adam(model.parameters(), lr=args.learning_rate)\n",
        "scheduler = optim.lr_scheduler.ReduceLROnPlateau(optimizer=optimizer,\n",
        "                                           mode='min', factor=0.5,\n",
        "                                           patience=1)\n",
        "train_state = make_train_state(args)\n"
      ],
      "execution_count": 0,
      "outputs": []
    },
    {
      "cell_type": "code",
      "metadata": {
        "code_folding": [],
        "id": "jIr6FBQWhrhY",
        "colab_type": "code",
        "outputId": "386f4fac-2c1e-4583-c290-6b05aef2f54b",
        "colab": {
          "base_uri": "https://localhost:8080/",
          "height": 113,
          "referenced_widgets": [
            "ff9510f5a94c4df7824434aa4448a1df",
            "92809d5412c0430a856004f7cfb01109",
            "9af46984d65043cbbe3fd41ba888c2f8",
            "2e10fddc53964871b26f13edb30326d8",
            "fbabf3745acb4ebab26e4e0af6f7f13a",
            "a3ea5bb2bdbc493e8b530d61edabb001",
            "385b877acfd84590847be6b123bb1c9a",
            "7072a133cd4d4b93a814457d09ae1f44",
            "6262bacd6c754e999d7b64a8ebac0177",
            "b8afa0afd0cf43b38b6ef24b88a367a0",
            "7a13cc0750da4de58e67cc39f3686dd1",
            "858b079dc1fb46ebb85cc908c170fd32",
            "e7614c93686d41da9c8d5012c1b95dee",
            "1cc162ce05b945ecb82f54dcb8831914",
            "0ed27e976d7b46e4a0d914c04dd8a882",
            "e9ea421447e84cfe9b86543e6333fdae",
            "8801be4ab0b84be1aab2ba05fdc55b54",
            "877ca8d740914313aecacb2d14b38052",
            "47287d58c97848ca80b73b29fd1d9af7",
            "d6232c24b2c645e990595f28578bdbc6",
            "17d0a0faf6eb44758d36868b0d423a61",
            "4e03cda4f0bf4992b4690a1dd40a15f8",
            "b1a44cdeaaba4b4da7983650af1386ee",
            "9fedfea4abff4ae4bd253c8bdc483768"
          ]
        }
      },
      "source": [
        "\n",
        "epoch_bar = tqdm_notebook(desc='training routine', \n",
        "                          total=args.num_epochs,\n",
        "                          position=0)\n",
        "\n",
        "dataset.set_split('train')\n",
        "train_bar = tqdm_notebook(desc='split=train',\n",
        "                          total=dataset.get_num_batches(args.batch_size), \n",
        "                          position=1, \n",
        "                          leave=True)\n",
        "dataset.set_split('val')\n",
        "val_bar = tqdm_notebook(desc='split=val',\n",
        "                        total=dataset.get_num_batches(args.batch_size), \n",
        "                        position=1, \n",
        "                        leave=True)\n",
        "\n",
        "try:\n",
        "    for epoch_index in range(args.num_epochs):\n",
        "        train_state['epoch_index'] = epoch_index\n",
        "\n",
        "        # Iterate over training dataset\n",
        "\n",
        "        # setup: batch generator, set loss and acc to 0, set train mode on\n",
        "        dataset.set_split('train')\n",
        "        batch_generator = generate_batches(dataset, \n",
        "                                           batch_size=args.batch_size, \n",
        "                                           device=args.device)\n",
        "        running_loss = 0.0\n",
        "        running_acc = 0.0\n",
        "        model.train()\n",
        "        \n",
        "        for batch_index, batch_dict in enumerate(batch_generator):\n",
        "            # the training routine is these 5 steps:\n",
        "\n",
        "            # --------------------------------------    \n",
        "            # step 1. zero the gradients\n",
        "            optimizer.zero_grad()\n",
        "\n",
        "            # step 2. compute the output\n",
        "            y_pred = model(x_in=batch_dict['x_data'])\n",
        "\n",
        "            # step 3. compute the loss\n",
        "            loss = sequence_loss(y_pred, batch_dict['y_target'], mask_index)# cross entropy\n",
        "\n",
        "\n",
        "            # step 4. use loss to produce gradients\n",
        "            loss.backward()\n",
        "\n",
        "            # step 5. use optimizer to take gradient step\n",
        "            optimizer.step()\n",
        "            # -----------------------------------------\n",
        "            # compute the  running loss and running accuracy\n",
        "            running_loss += (loss.item() - running_loss) / (batch_index + 1)\n",
        "            acc_t = compute_accuracy(y_pred, batch_dict['y_target'], mask_index)\n",
        "            running_acc += (acc_t - running_acc) / (batch_index + 1)\n",
        "\n",
        "            # update bar\n",
        "            train_bar.set_postfix(loss=running_loss,\n",
        "                                  acc=running_acc,\n",
        "                                  epoch=epoch_index)\n",
        "            train_bar.update()\n",
        "\n",
        "        train_state['train_loss'].append(running_loss)\n",
        "        train_state['train_acc'].append(running_acc)\n",
        "\n",
        "        # Iterate over val dataset\n",
        "\n",
        "        # setup: batch generator, set loss and acc to 0; set eval mode on\n",
        "        dataset.set_split('val')\n",
        "        batch_generator = generate_batches(dataset, \n",
        "                                           batch_size=args.batch_size, \n",
        "                                           device=args.device)\n",
        "        running_loss = 0.\n",
        "        running_acc = 0.\n",
        "        model.eval()\n",
        "\n",
        "        for batch_index, batch_dict in enumerate(batch_generator):\n",
        "            # compute the output\n",
        "            y_pred = model(x_in=batch_dict['x_data'])\n",
        "\n",
        "            # step 3. compute the loss\n",
        "            loss = sequence_loss(y_pred, batch_dict['y_target'], mask_index)\n",
        "\n",
        "            # compute the  running loss and running accuracy\n",
        "            running_loss += (loss.item() - running_loss) / (batch_index + 1)\n",
        "            acc_t = compute_accuracy(y_pred, batch_dict['y_target'], mask_index)\n",
        "            running_acc += (acc_t - running_acc) / (batch_index + 1)\n",
        "            \n",
        "            # Update bar\n",
        "            val_bar.set_postfix(loss=running_loss, acc=running_acc, \n",
        "                            epoch=epoch_index)\n",
        "            val_bar.update()\n",
        "\n",
        "        train_state['val_loss'].append(running_loss)\n",
        "        train_state['val_acc'].append(running_acc)\n",
        "\n",
        "        train_state = update_train_state(args=args, model=model, \n",
        "                                         train_state=train_state)\n",
        "\n",
        "        scheduler.step(train_state['val_loss'][-1])\n",
        "\n",
        "        if train_state['stop_early']:\n",
        "            break\n",
        "        \n",
        "        # move model to cpu for sampling\n",
        "        model = model.cpu()\n",
        "        sampled_surnames = decode_samples(\n",
        "            sample_from_model(model, vectorizer, num_samples=2), \n",
        "            vectorizer)\n",
        "        epoch_bar.set_postfix(sample1=sampled_surnames[0], \n",
        "                              sample2=sampled_surnames[1])\n",
        "        # move model back to whichever device it should be on\n",
        "        model = model.to(args.device)\n",
        "        \n",
        "        train_bar.n = 0\n",
        "        val_bar.n = 0\n",
        "        epoch_bar.update()\n",
        "        \n",
        "except KeyboardInterrupt:\n",
        "  \n",
        "    print(\"Exiting loop\")"
      ],
      "execution_count": 0,
      "outputs": [
        {
          "output_type": "display_data",
          "data": {
            "application/vnd.jupyter.widget-view+json": {
              "model_id": "ff9510f5a94c4df7824434aa4448a1df",
              "version_minor": 0,
              "version_major": 2
            },
            "text/plain": [
              "HBox(children=(IntProgress(value=0, description='training routine', style=ProgressStyle(description_width='ini…"
            ]
          },
          "metadata": {
            "tags": []
          }
        },
        {
          "output_type": "display_data",
          "data": {
            "application/vnd.jupyter.widget-view+json": {
              "model_id": "6262bacd6c754e999d7b64a8ebac0177",
              "version_minor": 0,
              "version_major": 2
            },
            "text/plain": [
              "HBox(children=(IntProgress(value=0, description='split=train', max=60, style=ProgressStyle(description_width='…"
            ]
          },
          "metadata": {
            "tags": []
          }
        },
        {
          "output_type": "display_data",
          "data": {
            "application/vnd.jupyter.widget-view+json": {
              "model_id": "8801be4ab0b84be1aab2ba05fdc55b54",
              "version_minor": 0,
              "version_major": 2
            },
            "text/plain": [
              "HBox(children=(IntProgress(value=0, description='split=val', max=12, style=ProgressStyle(description_width='in…"
            ]
          },
          "metadata": {
            "tags": []
          }
        }
      ]
    },
    {
      "cell_type": "code",
      "metadata": {
        "id": "9GXeDt2xiUcJ",
        "colab_type": "code",
        "outputId": "00dbdaf4-4db1-419d-ff19-ef238c332bcf",
        "colab": {
          "base_uri": "https://localhost:8080/",
          "height": 34
        }
      },
      "source": [
        "sampled_surnames"
      ],
      "execution_count": 0,
      "outputs": [
        {
          "output_type": "execute_result",
          "data": {
            "text/plain": [
              "['H', 'evao']"
            ]
          },
          "metadata": {
            "tags": []
          },
          "execution_count": 13
        }
      ]
    },
    {
      "cell_type": "code",
      "metadata": {
        "id": "T1pV10L3hrhc",
        "colab_type": "code",
        "outputId": "83140776-bc04-4b32-b371-ddd779ad269e",
        "colab": {
          "base_uri": "https://localhost:8080/",
          "height": 34
        }
      },
      "source": [
        "np.random.choice(np.arange(len(vectorizer.nationality_vocab)), replace=True, size=2)"
      ],
      "execution_count": 0,
      "outputs": [
        {
          "output_type": "execute_result",
          "data": {
            "text/plain": [
              "array([8, 7])"
            ]
          },
          "metadata": {
            "tags": []
          },
          "execution_count": 14
        }
      ]
    },
    {
      "cell_type": "code",
      "metadata": {
        "id": "crgnIUPghrhg",
        "colab_type": "code",
        "colab": {}
      },
      "source": [
        "# compute the loss & accuracy on the test set using a RNN model that has 2056 hidden nodes\n",
        "path=\"./model_2056.pth\"\n",
        "args.rnn_hidden_size=2056\n",
        "model = SurnameGenerationModel(char_embedding_size=args.char_embedding_size,\n",
        "                               char_vocab_size=len(vectorizer.char_vocab),\n",
        "                               rnn_hidden_size=args.rnn_hidden_size,\n",
        "                               padding_idx=vectorizer.char_vocab.mask_index)\n",
        "model.load_state_dict(torch.load(path))\n",
        "model.to(args.device)\n",
        "\n",
        "\n",
        "dataset.set_split('test')\n",
        "batch_generator = generate_batches(dataset, \n",
        "                                   batch_size=args.batch_size, \n",
        "                                   device=args.device)\n",
        "running_acc = 0.\n",
        "running_loss = 0.\n",
        "model.eval()\n",
        "all_pred=torch.Tensor()\n",
        "for batch_index, batch_dict in enumerate(batch_generator):\n",
        "    # compute the output\n",
        "    y_pred = model(x_in=batch_dict['x_data'])\n",
        "    \n",
        "    # compute the loss\n",
        "    loss = sequence_loss(y_pred, batch_dict['y_target'], mask_index)\n",
        "\n",
        "    # compute the accuracy\n",
        "    running_loss += (loss.item() - running_loss) / (batch_index + 1)\n",
        "\n",
        "    acc_t = compute_accuracy(y_pred, batch_dict['y_target'], mask_index)\n",
        "    running_acc += (acc_t - running_acc) / (batch_index + 1)\n",
        "\n",
        "    # stacking tensors to calculate perplexity\n",
        "    #all_pred=torch.cat((all_pred,y_pred.detach().cpu()))\n",
        "\n",
        "train_state['test_loss'] = running_loss \n",
        "train_state['test_acc'] = running_acc "
      ],
      "execution_count": 0,
      "outputs": []
    },
    {
      "cell_type": "markdown",
      "metadata": {
        "id": "2akkr9Etmk8V",
        "colab_type": "text"
      },
      "source": [
        "# Perplexity function for the whole TEXT and perplexity function to calculate characterwise perplexity, characterwise accuracy for the whole TEXT"
      ]
    },
    {
      "cell_type": "code",
      "metadata": {
        "id": "aSWZJuj2c7w7",
        "colab_type": "code",
        "colab": {}
      },
      "source": [
        "def normalize_sizes(y_pred, y_true):\n",
        "    if len(y_pred.size()) == 3:\n",
        "        y_pred = y_pred.contiguous().view(-1, y_pred.size(2))\n",
        "    if len(y_true.size()) == 2:\n",
        "        y_true = y_true.contiguous().view(-1)\n",
        "    return y_pred, y_true\n",
        "    \n",
        "def sequence_loss(y_pred, y_true, mask_index):\n",
        "    y_pred, y_true = normalize_sizes(y_pred, y_true)\n",
        "    return F.cross_entropy(y_pred, y_true, ignore_index=mask_index,reduction='none')\n",
        "\n",
        "def perplexity_all(y_pred,y_true,mask_index): # perplexity of the whole batch of data\n",
        "  loss=sequence_loss(y_pred,y_true,mask_index)\n",
        "  ln=loss.view(-1,y_pred.shape[1])\n",
        "  ln=ln.sum(axis=1)# we have the entropy per element summed over the vocab and time axis\n",
        "  ln=ln/y_pred.shape[1]\n",
        "  perp=2**ln\n",
        "  avg_perp=perp.sum()/y_pred.shape[0]\n",
        "  return(avg_perp)\n",
        "\n",
        "def perplexity_context(y_pred,y_true,mask_index,pos=-1): # perplexity of a single name till a certain position \n",
        "  if pos==-1:\n",
        "    pos=y_pred.shape[1]\n",
        "  y_pred=y_pred[:,:pos,:]\n",
        "  y_true=y_true[:,:pos]\n",
        "  loss=sequence_loss(y_pred,y_true,mask_index)\n",
        "  ln=loss.view(-1,pos)\n",
        "  ln=ln.sum(axis=1)# we have the entropy per element summed over the vocab and time axis\n",
        "  ln=ln/pos\n",
        "  perp=2**ln  # perplexity per element\n",
        "  avg_perp=perp.sum()/y_pred.shape[0] # average perplexity over the dataset\n",
        "  return(avg_perp)\n",
        "  \n"
      ],
      "execution_count": 0,
      "outputs": []
    },
    {
      "cell_type": "code",
      "metadata": {
        "id": "411uzjD2me4G",
        "colab_type": "code",
        "colab": {}
      },
      "source": [
        "# concatnating all the outputs from train , test, val in all_pred\n",
        "# concatnating all the outputs from train , test, val in all_pred\n",
        "all_pred=torch.Tensor()\n",
        "true=torch.LongTensor()\n",
        "dd=(\"train\",\"test\",\"val\")\n",
        "for i in dd:\n",
        "  dataset.set_split(i)\n",
        "  batch_generator = generate_batches(dataset, \n",
        "                                    batch_size=args.batch_size, \n",
        "                                    device=args.device)\n",
        "  model.eval()\n",
        "  \n",
        "  for batch_index, batch_dict in enumerate(batch_generator):\n",
        "      # compute the output\n",
        "      y_pred = model(x_in=batch_dict['x_data'])\n",
        "      \n",
        "\n",
        "      # stacking tensors to calculate perplexity\n",
        "      all_pred=torch.cat((all_pred,y_pred.detach().cpu()))\n",
        "      true=torch.cat((true,batch_dict['y_target'].detach().cpu()))\n",
        "\n",
        "  "
      ],
      "execution_count": 0,
      "outputs": []
    },
    {
      "cell_type": "markdown",
      "metadata": {
        "id": "Gmu9LSuYEn3m",
        "colab_type": "text"
      },
      "source": [
        "# PERPLEXITY FOR THE WHOLE TEXT"
      ]
    },
    {
      "cell_type": "code",
      "metadata": {
        "id": "KLtJocSTEmiL",
        "colab_type": "code",
        "outputId": "92dfd643-e8e2-48d3-eb2b-dd17e6cca87c",
        "colab": {
          "base_uri": "https://localhost:8080/",
          "height": 34
        }
      },
      "source": [
        "perplexity_all(all_pred.to(args.device),true.to(args.device),mask_index)"
      ],
      "execution_count": 0,
      "outputs": [
        {
          "output_type": "execute_result",
          "data": {
            "text/plain": [
              "tensor(1.6606, device='cuda:0')"
            ]
          },
          "metadata": {
            "tags": []
          },
          "execution_count": 14
        }
      ]
    },
    {
      "cell_type": "markdown",
      "metadata": {
        "id": "CIHgK1yzE_k8",
        "colab_type": "text"
      },
      "source": [
        "# CHARACTERWISE PERPLEXITY FOR THE WHOLE TEXT"
      ]
    },
    {
      "cell_type": "code",
      "metadata": {
        "id": "z-BYGOmyE-0Q",
        "colab_type": "code",
        "outputId": "67b100f6-2048-4f48-8890-387d047859b9",
        "colab": {
          "base_uri": "https://localhost:8080/",
          "height": 354
        }
      },
      "source": [
        "tmp=[]\n",
        "for j in range(1,y_pred.shape[1]+1):\n",
        "    print(perplexity_context(all_pred.to(args.device),true.to(args.device),mask_index,j).data)\n",
        "    tmp.append(perplexity_context(all_pred.to(args.device),true.to(args.device),mask_index,j).data)"
      ],
      "execution_count": 0,
      "outputs": [
        {
          "output_type": "stream",
          "text": [
            "tensor(11.4393, device='cuda:0')\n",
            "tensor(6.6173, device='cuda:0')\n",
            "tensor(6.2160, device='cuda:0')\n",
            "tensor(5.7082, device='cuda:0')\n",
            "tensor(5.0612, device='cuda:0')\n",
            "tensor(4.4345, device='cuda:0')\n",
            "tensor(3.8885, device='cuda:0')\n",
            "tensor(3.4316, device='cuda:0')\n",
            "tensor(3.0576, device='cuda:0')\n",
            "tensor(2.7462, device='cuda:0')\n",
            "tensor(2.4971, device='cuda:0')\n",
            "tensor(2.3011, device='cuda:0')\n",
            "tensor(2.1462, device='cuda:0')\n",
            "tensor(2.0226, device='cuda:0')\n",
            "tensor(1.9221, device='cuda:0')\n",
            "tensor(1.8393, device='cuda:0')\n",
            "tensor(1.7700, device='cuda:0')\n",
            "tensor(1.7112, device='cuda:0')\n",
            "tensor(1.6606, device='cuda:0')\n"
          ],
          "name": "stdout"
        }
      ]
    },
    {
      "cell_type": "code",
      "metadata": {
        "id": "ckQ78S9nElfu",
        "colab_type": "code",
        "outputId": "c72a0d4f-88fa-44b9-9cea-c08374585321",
        "colab": {
          "base_uri": "https://localhost:8080/",
          "height": 638
        }
      },
      "source": [
        "plt.figure(figsize=(10,10))\n",
        "plt.plot(np.arange(19),tmp)\n",
        "plt.xlabel(\"Character Position\")\n",
        "plt.ylabel(\"Perplexity\")\n",
        "plt.title(\"Test set perplexity-average dependent on position\")\n"
      ],
      "execution_count": 0,
      "outputs": [
        {
          "output_type": "execute_result",
          "data": {
            "text/plain": [
              "Text(0.5, 1.0, 'Test set perplexity-average dependent on position')"
            ]
          },
          "metadata": {
            "tags": []
          },
          "execution_count": 19
        },
        {
          "output_type": "display_data",
          "data": {
            "image/png": "[encoded data removed]",
            "text/plain": [
              "<Figure size 720x720 with 1 Axes>"
            ]
          },
          "metadata": {
            "tags": []
          }
        }
      ]
    },
    {
      "cell_type": "markdown",
      "metadata": {
        "id": "XriYQ2d1nDv_",
        "colab_type": "text"
      },
      "source": [
        "#Characterwise Accuracy"
      ]
    },
    {
      "cell_type": "code",
      "metadata": {
        "id": "GpnfxEUSnHEs",
        "colab_type": "code",
        "colab": {}
      },
      "source": [
        "def compute_accuracy(y_pred, y_true, mask_index):\n",
        "    y_pred, y_true = normalize_sizes(y_pred, y_true)\n",
        "\n",
        "    _, y_pred_indices = y_pred.max(dim=1)\n",
        "    \n",
        "    correct_indices = torch.eq(y_pred_indices, y_true).float()\n",
        "    valid_indices = torch.ne(y_true, mask_index).float()\n",
        "    \n",
        "    n_correct = (correct_indices * valid_indices).sum().item()\n",
        "    n_valid = valid_indices.sum().item()\n",
        "\n",
        "    return n_correct / n_valid * 100\n",
        "\n",
        "def normalize_sizes(y_pred, y_true):\n",
        "    if len(y_pred.size()) == 3:\n",
        "        y_pred = y_pred.contiguous().view(-1, y_pred.size(2))\n",
        "    if len(y_true.size()) == 2:\n",
        "        y_true = y_true.contiguous().view(-1)\n",
        "    return y_pred, y_true\n",
        "\n",
        "def accuracy_character(y_pred, y_true, mask_index,pos):\n",
        "  return(compute_accuracy(y_pred[:,:pos,:], y_true[:,:pos], mask_index))"
      ],
      "execution_count": 0,
      "outputs": []
    },
    {
      "cell_type": "code",
      "metadata": {
        "id": "BMcUQKNjnIpM",
        "colab_type": "code",
        "outputId": "f5c64821-107a-495d-af3e-2cecd1838435",
        "colab": {
          "base_uri": "https://localhost:8080/",
          "height": 354
        }
      },
      "source": [
        "tmp=[]\n",
        "for j in range(1,all_pred.shape[1]+1):\n",
        "  print(accuracy_character(all_pred.to(args.device),true.to(args.device),mask_index,j))\n",
        "  tmp.append(accuracy_character(all_pred.to(args.device),true.to(args.device),mask_index,j))"
      ],
      "execution_count": 0,
      "outputs": [
        {
          "output_type": "stream",
          "text": [
            "8.510044642857142\n",
            "19.777715773809522\n",
            "21.618353743605642\n",
            "26.159757801583606\n",
            "31.63724277521646\n",
            "37.40744868875691\n",
            "42.062230297524415\n",
            "45.027547663403226\n",
            "46.75992802655921\n",
            "47.747000334328064\n",
            "48.276832701015785\n",
            "48.493374257039854\n",
            "48.57952127982884\n",
            "48.61401292454205\n",
            "48.630236794171225\n",
            "48.63647401651287\n",
            "48.63896848137536\n",
            "48.63959205973411\n",
            "48.63959205973411\n"
          ],
          "name": "stdout"
        }
      ]
    },
    {
      "cell_type": "code",
      "metadata": {
        "id": "ZDaQQKumGR24",
        "colab_type": "code",
        "outputId": "5ed662e4-ba0f-4b6b-a36e-3a86dbd9b44c",
        "colab": {
          "base_uri": "https://localhost:8080/",
          "height": 638
        }
      },
      "source": [
        "plt.figure(figsize=(10,10))\n",
        "plt.plot(np.arange(19),tmp)\n",
        "plt.xlabel(\"Character Position\")\n",
        "plt.ylabel(\"Accuracy\")\n",
        "plt.title(\"Test set accuracy-average dependent on position\")\n"
      ],
      "execution_count": 0,
      "outputs": [
        {
          "output_type": "execute_result",
          "data": {
            "text/plain": [
              "Text(0.5, 1.0, 'Test set accuracy-average dependent on position')"
            ]
          },
          "metadata": {
            "tags": []
          },
          "execution_count": 23
        },
        {
          "output_type": "display_data",
          "data": {
            "image/png": "[encoded data removed]",
            "text/plain": [
              "<Figure size 720x720 with 1 Axes>"
            ]
          },
          "metadata": {
            "tags": []
          }
        }
      ]
    },
    {
      "cell_type": "markdown",
      "metadata": {
        "id": "ldfJK8jBgbnT",
        "colab_type": "text"
      },
      "source": [
        "**TODO**: Write code to compute the perplexity of the whole text corpus, the accuracy of a character-prediction task, and the perplexity at a given character position (1, 2, 3, ...)."
      ]
    },
    {
      "cell_type": "markdown",
      "metadata": {
        "id": "aaa8re3QGlpW",
        "colab_type": "text"
      },
      "source": [
        "## all the below mentioned details are for the whole text with a hidden size of 2056"
      ]
    },
    {
      "cell_type": "code",
      "metadata": {
        "id": "yfzssGYjhrhj",
        "colab_type": "code",
        "outputId": "7c98034d-074e-4d4c-f11c-9b7b6bbedcf2",
        "colab": {
          "base_uri": "https://localhost:8080/",
          "height": 70
        }
      },
      "source": [
        "print(\"Test loss: {};\".format(train_state['test_loss']))\n",
        "print(\"TEXT perplexity: {};\".format(perplexity_all(all_pred.to(args.device),true.to(args.device),mask_index))) # compute and print perplexity here\n",
        "print(\"Test Accuracy: {}\".format(train_state['test_acc']))\n"
      ],
      "execution_count": 0,
      "outputs": [
        {
          "output_type": "stream",
          "text": [
            "Test loss: 2.298266649246216;\n",
            "TEXT perplexity: 1.660618782043457;\n",
            "Test Accuracy: 36.294526799211226\n"
          ],
          "name": "stdout"
        }
      ]
    },
    {
      "cell_type": "markdown",
      "metadata": {
        "id": "2FCywMZ6hrhm",
        "colab_type": "text"
      },
      "source": [
        "## Inference (Hidden size 2056)\n",
        "To see the names that the model generates:"
      ]
    },
    {
      "cell_type": "code",
      "metadata": {
        "id": "jTbrH4dBhrho",
        "colab_type": "code",
        "outputId": "23a37e98-e6f5-472e-e860-a7703a710eff",
        "colab": {
          "base_uri": "https://localhost:8080/",
          "height": 212
        }
      },
      "source": [
        "# number of names to generate\n",
        "num_names = 10\n",
        "model = model.cpu()\n",
        "# Generate nationality hidden state\n",
        "sampled_surnames = decode_samples(\n",
        "    sample_from_model(model, vectorizer, num_samples=num_names), \n",
        "    vectorizer)\n",
        "# Show results\n",
        "print (\"-\"*15)\n",
        "for i in range(num_names):\n",
        "    print (sampled_surnames[i])"
      ],
      "execution_count": 0,
      "outputs": [
        {
          "output_type": "stream",
          "text": [
            "---------------\n",
            "Cassidy\n",
            "Tsutaba\n",
            "Roshapley\n",
            "Keisllet\n",
            "Botros\n",
            "TshiQskid\n",
            "Dho\n",
            "Mlastov\n",
            "Vihscdyan\n",
            "Ling\n"
          ],
          "name": "stdout"
        }
      ]
    },
    {
      "cell_type": "markdown",
      "metadata": {
        "id": "cjgqHfp7ggAj",
        "colab_type": "text"
      },
      "source": [
        "**TODO**: Train the GRU model given above multiple times for different levels of `rnn_hidden_size`. For each of these models, plot the average perplexity as a function of the number of characters of the name observed so far. Explain your observations."
      ]
    },
    {
      "cell_type": "code",
      "metadata": {
        "id": "XVySIFTAG9By",
        "colab_type": "code",
        "colab": {}
      },
      "source": [
        "# concatnating all the outputs from test set in all_pred\n",
        "\n",
        "all_pred=torch.LongTensor()\n",
        "true=torch.LongTensor()\n",
        "\n",
        "dataset.set_split('test')\n",
        "batch_generator = generate_batches(dataset, \n",
        "                                    batch_size=args.batch_size, \n",
        "                                    device=args.device)\n",
        "\n",
        "  \n",
        "for batch_index, batch_dict in enumerate(batch_generator):\n",
        "      # compute the output\n",
        "      \n",
        "\n",
        "      # stacking tensors to calculate perplexity\n",
        "      all_pred=torch.cat((all_pred,batch_dict['x_data'].detach().cpu()))\n",
        "      true=torch.cat((true,batch_dict['y_target'].detach().cpu()))\n",
        "\n",
        "  "
      ],
      "execution_count": 0,
      "outputs": []
    },
    {
      "cell_type": "code",
      "metadata": {
        "id": "0jrlokDiHwui",
        "colab_type": "code",
        "colab": {}
      },
      "source": [
        "a=[2,4,8,16,64,128,256,512,1024,2056]\n",
        "perp=[]\n",
        "pre=\"./model_\"\n",
        "post='.pth'\n",
        "for i in a:\n",
        "\n",
        "  path=pre+str(i)+post\n",
        "  args.rnn_hidden_size=i\n",
        "  model = SurnameGenerationModel(char_embedding_size=args.char_embedding_size,\n",
        "                               char_vocab_size=len(vectorizer.char_vocab),\n",
        "                               rnn_hidden_size=args.rnn_hidden_size,\n",
        "                               padding_idx=vectorizer.char_vocab.mask_index)\n",
        "  model.load_state_dict(torch.load(path))\n",
        "  model.to(args.device)\n",
        "  model.eval()\n",
        "  y_pred = model(x_in=all_pred.to(args.device))\n",
        "  temp=[]\n",
        "  for j in range(1,y_pred.shape[1]+1):\n",
        "    temp.append(perplexity_context(y_pred,true.to(args.device),mask_index,j).data)\n",
        "  perp.append(temp)\n",
        "    \n",
        "    \n",
        "    "
      ],
      "execution_count": 0,
      "outputs": []
    },
    {
      "cell_type": "code",
      "metadata": {
        "id": "OXKZzEK_H6Wx",
        "colab_type": "code",
        "outputId": "86fc72f6-f350-4c1d-a0c7-90de7146599b",
        "colab": {
          "base_uri": "https://localhost:8080/",
          "height": 605
        }
      },
      "source": [
        "plt.figure(figsize=(10,10))\n",
        "plt.xlabel(\"Character Position\")\n",
        "plt.ylabel(\"Perplexity value\")\n",
        "for i,val in enumerate(perp):\n",
        "  plt.plot(np.arange(len(val)),val,label=\"Hidden Size={}\".format(a[i]))\n",
        "  plt.legend()"
      ],
      "execution_count": 0,
      "outputs": [
        {
          "output_type": "display_data",
          "data": {
            "image/png": "[encoded data removed]",
            "text/plain": [
              "<Figure size 720x720 with 1 Axes>"
            ]
          },
          "metadata": {
            "tags": []
          }
        }
      ]
    },
    {
      "cell_type": "code",
      "metadata": {
        "id": "w9_m_zk_Q88H",
        "colab_type": "code",
        "colab": {}
      },
      "source": [
        ""
      ],
      "execution_count": 0,
      "outputs": []
    }
  ]
}