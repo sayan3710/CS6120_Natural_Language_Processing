{
  "nbformat": 4,
  "nbformat_minor": 0,
  "metadata": {
    "colab": {
      "name": "PS1-Reviews.ipynb",
      "provenance": [],
      "collapsed_sections": []
    },
    "kernelspec": {
      "name": "python3",
      "display_name": "Python 3"
    }
  },
  "cells": [
    {
      "cell_type": "markdown",
      "metadata": {
        "id": "Jc2R3x6QSIFi",
        "colab_type": "text"
      },
      "source": [
        "In this experiment, you will explore the accuracy of sentiment classificaiton using different feature representations of text documents.\n",
        "\n",
        "First, you will implement `createBasicFeatures`, which creates a sparse matrix representation of a collection of documents. For this exercise, you should have a feature for each word containing at least one alphabetic character. You may use the `numpy` and `sklearn` packages to help with implementing a sparse matrix.\n",
        "\n",
        "Then, you will implement `createFancyFeatures`, which can specify at any other features you choose to help improve performance on the classification task.\n",
        "\n",
        "The two code blocks at the end train and evaluate two models—logistic regression with L1 and L2 regularization—using your featurization functions. Besides held-out classification accuracy with 10-fold cross-validation, you will also see the features in each class given high weights by the model."
      ]
    },
    {
      "cell_type": "code",
      "metadata": {
        "id": "AdVS67_HNRmW",
        "colab_type": "code",
        "outputId": "dfd220b4-73d3-4777-d867-e874ad1af40b",
        "colab": {
          "base_uri": "https://localhost:8080/",
          "height": 141
        }
      },
      "source": [
        "import json\n",
        "import requests\n",
        "from sklearn.linear_model import LogisticRegression\n",
        "from sklearn.model_selection import cross_validate,LeaveOneOut,KFold\n",
        "import numpy as np\n",
        "import pandas as pd\n",
        "import re\n",
        "from sklearn.feature_extraction.text import CountVectorizer\n",
        "from sklearn.feature_extraction.text import TfidfVectorizer\n",
        "from nltk.corpus import stopwords\n",
        "from sklearn.decomposition import LatentDirichletAllocation,TruncatedSVD\n",
        "import nltk\n",
        "nltk.download('stopwords')\n",
        "nltk.download('punkt')\n",
        "nltk.download('wordnet')"
      ],
      "execution_count": 0,
      "outputs": [
        {
          "output_type": "stream",
          "text": [
            "[nltk_data] Downloading package stopwords to /root/nltk_data...\n",
            "[nltk_data]   Package stopwords is already up-to-date!\n",
            "[nltk_data] Downloading package punkt to /root/nltk_data...\n",
            "[nltk_data]   Package punkt is already up-to-date!\n",
            "[nltk_data] Downloading package wordnet to /root/nltk_data...\n",
            "[nltk_data]   Package wordnet is already up-to-date!\n"
          ],
          "name": "stdout"
        },
        {
          "output_type": "execute_result",
          "data": {
            "text/plain": [
              "True"
            ]
          },
          "metadata": {
            "tags": []
          },
          "execution_count": 11
        }
      ]
    },
    {
      "cell_type": "code",
      "metadata": {
        "id": "PzjMY8fYQbB6",
        "colab_type": "code",
        "cellView": "both",
        "colab": {}
      },
      "source": [
        "# read in the movie review corpus\n",
        "def readReviews():\n",
        "  raw = requests.get(\"https://raw.githubusercontent.com/mutherr/CS6120-PS1-data/master/cornell_reviews.json\").text.strip()\n",
        "  corpus = [json.loads(line) for line in raw.split(\"\\n\")]\n",
        "\n",
        "  return corpus"
      ],
      "execution_count": 0,
      "outputs": []
    },
    {
      "cell_type": "markdown",
      "metadata": {
        "id": "Qvd3I95FT01D",
        "colab_type": "text"
      },
      "source": [
        "This is where you will implement two functions to featurize the data."
      ]
    },
    {
      "cell_type": "code",
      "metadata": {
        "id": "039fPQcF7OkN",
        "colab_type": "code",
        "colab": {}
      },
      "source": [
        "#NB: The current contents are for testing only\n",
        "#This function should return: \n",
        "#  -a sparse numpy matrix of document features\n",
        "#  -a list of the correct class for each document\n",
        "#  -a list of the vocabulary used by the features, such that the ith term of the\n",
        "#    list is the word whose counts appear in the ith column of the matrix. \n",
        "\n",
        "# This function should create a feature representation using all tokens that\n",
        "# contain an alphabetic character.\n",
        "\n",
        "\n",
        "\n",
        "def createBasicFeatures(corpus):\n",
        "  texts=[]\n",
        "  classes=[]\n",
        "  for i in range(len(corpus)):\n",
        "    classes.append(corpus[i]['class'])\n",
        "    texts.append(re.sub(\"[^a-zA-Z0-9]+\", ' ',corpus[i]['text']))\n",
        "  \n",
        "  \n",
        "  \n",
        "  vectorizer = CountVectorizer()\n",
        "  X = vectorizer.fit_transform(texts)\n",
        "  X=X.toarray()\n",
        "\n",
        "  \n",
        "  return X,classes,list(vectorizer.vocabulary_.keys())\n",
        "\n",
        "def Create_stop(texts):\n",
        "  vectorizer = CountVectorizer()\n",
        "  X = vectorizer.fit_transform(texts)\n",
        "  X=X.toarray()\n",
        "  df=pd.DataFrame(X.sum(axis=0),columns=['Count'])\n",
        "  df.sort_values(by='Count',ascending=False,inplace=True)\n",
        "\n",
        "  most_common=list(df[:100].index)\n",
        "  rr=list(vectorizer.vocabulary_.items())\n",
        "  dict1={}\n",
        "  for a,b in rr:\n",
        "    dict1[b]=a\n",
        "\n",
        "\n",
        "  common_words=[]\n",
        "  for j in most_common:\n",
        "        common_words.append(dict1[j])\n",
        "\n",
        "  off=list(df[df['Count']==1].index)\n",
        "\n",
        "\n",
        "  rare=[]\n",
        "  for i in off:\n",
        "    rare.append(dict1[i])\n",
        "\n",
        "  stop=stopwords.words(\"english\")\n",
        "  stop.extend(common_words)\n",
        "  stop.extend(rare)\n",
        "\n",
        "  return(stop)\n",
        "\n",
        "# This function can add other features you want that help classification\n",
        "# accuracy, such as bigrams, word prefixes and suffixes, etc.\n",
        "def createFancyFeatures(corpus):\n",
        "  #Your code here\n",
        "\n",
        "\n",
        "  \n",
        "  \"\"\"  \n",
        "  vectorizer = TfidfVectorizer(stop_words=set(stopwords.words(\"english\")),min_df=0.02,max_features=35000)\n",
        "  X = vectorizer.fit_transform(texts)\n",
        "  X=X.toarray()\n",
        "\n",
        "  cv = CountVectorizer()\n",
        "  bo = cv.fit_transform(texts)\n",
        "  bo=bo.toarray()\n",
        "  lda = LatentDirichletAllocation(n_components=10,random_state=0)\n",
        "  l=lda.fit_transform(bo)\n",
        "  X=np.hstack((X,l))\n",
        "  #X=np.hstack((X,bo))\"\"\"\n",
        "  texts=[]\n",
        "  classes=[]\n",
        "  for i in range(len(corpus)):\n",
        "    classes.append(corpus[i]['class'])\n",
        "    texts.append(re.sub(\"[^a-zA-Z0-9]+\", ' ',corpus[i]['text']))\n",
        "    \"\"\"t=re.sub(\"[^a-zA-Z0-9]+\", ' ',corpus[i]['text'])\n",
        "    dummy=[]\n",
        "    for word in t.split():\n",
        "      dummy.append(lemma.lemmatize(word))\n",
        "    \n",
        "    texts.append(\" \".join(dummy))\"\"\"\n",
        "    \n",
        "  stop=Create_stop(texts)\n",
        "  #vectorizer = CountVectorizer(stop_words=stop,ngram_range=(1,3),max_features=40000)#,max_features=20000,ngram_range=(1,2))\n",
        "  vectorizer = CountVectorizer(ngram_range=(1,2),min_df=0.002)\n",
        "  X = vectorizer.fit_transform(texts)\n",
        "  X=X.toarray()\n",
        "  \n",
        "  \n",
        "  \"\"\"vectorizer1 = TfidfVectorizer(stop_words=stop)\n",
        "  tf = vectorizer1.fit_transform(texts)\n",
        "  tf = tf.toarray()\n",
        "  tsd=TruncatedSVD(5)\n",
        "  t=tsd.fit_transform(tf)\n",
        "\n",
        "  X=np.hstack((X,t))\n",
        "  for i in range(5):\n",
        "    vectorizer.vocabulary_.update({'svd'+str(i):len(vectorizer.vocabulary_)+i})\"\"\"\n",
        "\n",
        "  print(\"The number of features ={}\".format(len(list(vectorizer.vocabulary_.keys()))))\n",
        "  return X,classes,list(vectorizer.vocabulary_.keys())"
      ],
      "execution_count": 0,
      "outputs": []
    },
    {
      "cell_type": "code",
      "metadata": {
        "id": "KfTBqBltXe7Y",
        "colab_type": "code",
        "colab": {}
      },
      "source": [
        "#given a numpy matrix representation of the features for the training set, the \n",
        "# vector of true classes for each example, and the vocabulary as described \n",
        "# above, this computes the accuracy of the model using leave one out cross \n",
        "# validation and reports the most indicative features for each class\n",
        "\n",
        "def evaluateModel(X,y,vocab,penalty=\"l1\"):\n",
        "  #create and fit the model\n",
        "  model = LogisticRegression(penalty=penalty,solver=\"liblinear\")\n",
        "  results = cross_validate(model,X,y,cv=KFold(n_splits=10, shuffle=True, random_state=1))\n",
        "  \n",
        "  #determine the average accuracy\n",
        "  scores = results[\"test_score\"]\n",
        "  avg_score = sum(scores)/len(scores)\n",
        "  \n",
        "  #determine the most informative features\n",
        "  # this requires us to fit the model to everything, because we need a\n",
        "  # single model to draw coefficients from, rather than 26\n",
        "  model.fit(X,y)\n",
        "  class0_weight_sorted = model.coef_[0, :].argsort()\n",
        "  class1_weight_sorted = (-model.coef_[0, :]).argsort()\n",
        "\n",
        "  termsToTake = 20\n",
        "  class0_indicators = [vocab[i] for i in class0_weight_sorted[:termsToTake]]\n",
        "  class1_indicators = [vocab[i] for i in class1_weight_sorted[:termsToTake]]\n",
        "\n",
        "  if model.classes_[0] == \"pos\":\n",
        "    return avg_score,class0_indicators,class1_indicators\n",
        "  else:\n",
        "    return avg_score,class1_indicators,class0_indicators\n",
        "\n",
        "def runEvaluation(X,y,vocab):\n",
        "  print(\"----------L1 Norm-----------\")\n",
        "  avg_score,pos_indicators,neg_indicators = evaluateModel(X,y,vocab,\"l1\")\n",
        "  print(\"The model's average accuracy is %f\"%avg_score)\n",
        "  print(\"The most informative terms for pos are: %s\"%pos_indicators)\n",
        "  print(\"The most informative terms for neg are: %s\"%neg_indicators)\n",
        "  #this call will fit a model with L2 normalization\n",
        "  print(\"----------L2 Norm-----------\")\n",
        "  avg_score,pos_indicators,neg_indicators = evaluateModel(X,y,vocab,\"l2\")\n",
        "  print(\"The model's average accuracy is %f\"%avg_score)\n",
        "  print(\"The most informative terms for pos are: %s\"%pos_indicators)\n",
        "  print(\"The most informative terms for neg are: %s\"%neg_indicators)"
      ],
      "execution_count": 0,
      "outputs": []
    },
    {
      "cell_type": "code",
      "metadata": {
        "id": "VWWq5VgmECKV",
        "colab_type": "code",
        "colab": {}
      },
      "source": [
        "corpus = readReviews()"
      ],
      "execution_count": 0,
      "outputs": []
    },
    {
      "cell_type": "markdown",
      "metadata": {
        "id": "72OUet02TjBo",
        "colab_type": "text"
      },
      "source": [
        "Run the following to train and evaluate two models using basic features:"
      ]
    },
    {
      "cell_type": "code",
      "metadata": {
        "id": "4IpJ7PKjvc8I",
        "colab_type": "code",
        "outputId": "48de0888-298e-4200-9de3-adf7c80d412e",
        "colab": {
          "base_uri": "https://localhost:8080/",
          "height": 178
        }
      },
      "source": [
        "X,y,vocab = createBasicFeatures(corpus)\n",
        "runEvaluation(X, y, vocab)"
      ],
      "execution_count": 0,
      "outputs": [
        {
          "output_type": "stream",
          "text": [
            "----------L1 Norm-----------\n",
            "The model's average accuracy is 0.825500\n",
            "The most informative terms for pos are: ['drainage', 'motivator', 'sadistically', 'velicorapters', 'ephron', 'greenaway', 'shadowy', 'decked', 'tunie', 'kamen', 'endorsements', 'ferrets', 'deepak', 'kahl', 'tobacco', 'preteen', 'landou', 'filmic', 'chloe', 'lyndon']\n",
            "The most informative terms for neg are: ['frickin', 'hillhouse', 'punched', 'simm', 'magoo', 'leonardi', 'whilst', 'caerthan', 'sioux', 'edifice', 'gremlins', 'millisecond', 'jiggling', 'overlays', 'minorly', 'second', 'stylewise', 'knockout', 'nickelodeon', 'fooled']\n",
            "----------L2 Norm-----------\n",
            "The model's average accuracy is 0.834000\n",
            "The most informative terms for pos are: ['tobacco', 'bryan', 'york', 'deepak', 'anabasis', 'subtlty', 'decked', 'greenaway', 'motivator', 'endorsements', 'mixon', 'reemerging', 'sadistically', 'beats', 'infect', 'norrington', 'summoned', 'comprehendable', 'manero', 'velicorapters']\n",
            "The most informative terms for neg are: ['second', 'caerthan', 'simm', 'frickin', 'pulitzer', 'fl', 'sioux', 'inflames', 'millisecond', 'brightest', 'knockout', 'kidlets', 'literacy', 'hillhouse', 'asbury', 'punched', 'dali', 'kasdan', 'dargus', 'answered']\n"
          ],
          "name": "stdout"
        }
      ]
    },
    {
      "cell_type": "markdown",
      "metadata": {
        "id": "4sjxLL2PTrJi",
        "colab_type": "text"
      },
      "source": [
        "Run the following to train and evaluate two models using extended features:"
      ]
    },
    {
      "cell_type": "code",
      "metadata": {
        "id": "VmQy2T1xKrDc",
        "colab_type": "code",
        "outputId": "4ed69b5e-b248-4ecc-e0f7-0f523ace2a9d",
        "colab": {
          "base_uri": "https://localhost:8080/",
          "height": 196
        }
      },
      "source": [
        "X,y,vocab = createFancyFeatures(corpus) \n",
        "runEvaluation(X, y, vocab)\n"
      ],
      "execution_count": 0,
      "outputs": [
        {
          "output_type": "stream",
          "text": [
            "The number of features =58168\n",
            "----------L1 Norm-----------\n",
            "The model's average accuracy is 0.833500\n",
            "The most informative terms for pos are: ['it didn', 'experience with', 'is replaced', 'million people', 'the comedic', 'their souls', 'it before', 'ever seeing', 'imprisoned', 'redeemed', 'the confines', 'briefcase', 'pain for', 'unmistakable', 'comes at', 'james jennifer', 'gripe', 'as father', 'love movies', 'at small']\n",
            "The most informative terms for neg are: ['minute it', 'klutz', 'else will', 'dewitt bukater', 'were almost', 'more that', 'and full', 'graham', 'boy does', 'and before', 'panders', 'charming in', 'hadn been', 'baldwin but', 'but many', 'realization', 'only been', 'in while', 'show what', 'the combination']\n",
            "----------L2 Norm-----------\n",
            "The model's average accuracy is 0.850500\n",
            "The most informative terms for pos are: ['james jennifer', 'unmistakable', 'ring true', 'eyes and', 'would definitely', 'the surprise', 'others with', 'the fantastic', 'rangers', 'debate and', 'love movies', 'ever seeing', 'much that', 'decides', 'cherokee', 'it didn', 'certain people', 'briefcase', 'manufacturer', 'holes']\n",
            "The most informative terms for neg are: ['baldwin but', 'were almost', 'dewitt bukater', 'incredible and', 'watching them', 'minute it', 'and before', 'enjoyable in', 'we all', 'realization', 'armies', 'show what', 'graham', 'klutz', 'and full', 'charming in', 'rejoice', 'dozens', 'great effect', 'actual film']\n"
          ],
          "name": "stdout"
        }
      ]
    },
    {
      "cell_type": "code",
      "metadata": {
        "id": "WVKdCzK2RMRl",
        "colab_type": "code",
        "colab": {}
      },
      "source": [
        ""
      ],
      "execution_count": 0,
      "outputs": []
    }
  ]
}