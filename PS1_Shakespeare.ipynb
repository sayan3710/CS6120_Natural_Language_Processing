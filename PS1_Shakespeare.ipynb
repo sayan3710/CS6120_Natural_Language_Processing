{
  "nbformat": 4,
  "nbformat_minor": 0,
  "metadata": {
    "colab": {
      "name": "PS1-Shakespeare.ipynb",
      "provenance": [],
      "collapsed_sections": []
    },
    "kernelspec": {
      "name": "python3",
      "display_name": "Python 3"
    }
  },
  "cells": [
    {
      "cell_type": "markdown",
      "metadata": {
        "id": "ghmXbcymaHxC",
        "colab_type": "text"
      },
      "source": [
        "In this experiment, you will train models to distringuish examples of two different genres of Shakespeare's plays: comedies and tragedies. (We'll ignore the histories, sonnets, etc.) Since he died four hundred years ago, Shakespeare has not written any more plays—although scraps of various other works have come to light. We are not, therefore, interested in building models simply to help categorize an unbounded stream of future documents, as we might be in other applications of text classification; rather, we are interested in what a classifier might have to tell us about what we mean by the terms “comedy” and “tragedy”.\n",
        "\n",
        "You will start by copying and running your `createBasicFeatures` function from the experiment with movie reviews. Do the features the classifier focuses on tell you much about comedy and tragedy in general?\n",
        "\n",
        "You will then implement another featurization function `createInterestingFeatures`, which will focus on only those features you think are informative for distinguishing between comedy and tragedy. Accuracy on leave-one-out cross-validation may go up, but it more important to look at the features given the highest weight by the classifier. Interpretability in machine learning, of course, may be harder to define than accuracy—although accuracy at some tasks such as summarization is hard enoough."
      ]
    },
    {
      "cell_type": "code",
      "metadata": {
        "id": "AdVS67_HNRmW",
        "colab_type": "code",
        "outputId": "869ae9ce-a38c-42bf-e865-91a8be9244ab",
        "colab": {
          "base_uri": "https://localhost:8080/",
          "height": 141
        }
      },
      "source": [
        "import json\n",
        "import requests\n",
        "from sklearn.linear_model import LogisticRegression\n",
        "from sklearn.model_selection import cross_validate,LeaveOneOut,KFold\n",
        "import numpy as np\n",
        "import pandas as pd\n",
        "import re\n",
        "from sklearn.feature_extraction.text import CountVectorizer\n",
        "from sklearn.feature_extraction.text import TfidfVectorizer\n",
        "from nltk.corpus import stopwords\n",
        "from sklearn.decomposition import LatentDirichletAllocation,TruncatedSVD\n",
        "import nltk\n",
        "nltk.download('stopwords')\n",
        "nltk.download('punkt')\n",
        "nltk.download('wordnet')"
      ],
      "execution_count": 0,
      "outputs": [
        {
          "output_type": "stream",
          "text": [
            "[nltk_data] Downloading package stopwords to /root/nltk_data...\n",
            "[nltk_data]   Package stopwords is already up-to-date!\n",
            "[nltk_data] Downloading package punkt to /root/nltk_data...\n",
            "[nltk_data]   Package punkt is already up-to-date!\n",
            "[nltk_data] Downloading package wordnet to /root/nltk_data...\n",
            "[nltk_data]   Package wordnet is already up-to-date!\n"
          ],
          "name": "stdout"
        },
        {
          "output_type": "execute_result",
          "data": {
            "text/plain": [
              "True"
            ]
          },
          "metadata": {
            "tags": []
          },
          "execution_count": 28
        }
      ]
    },
    {
      "cell_type": "code",
      "metadata": {
        "id": "PzjMY8fYQbB6",
        "colab_type": "code",
        "colab": {}
      },
      "source": [
        "#read in the shakespeare corpus\n",
        "def readShakespeare():\n",
        "  raw = requests.get(\"https://raw.githubusercontent.com/mutherr/CS6120-PS1-data/master/shakespeare_plays.json\").text.strip()\n",
        "  corpus = [json.loads(line) for line in raw.split(\"\\n\")]\n",
        "\n",
        "  #remove histories from the data, as we're only working with tragedies and comedies\n",
        "  corpus = [entry for entry in corpus if entry[\"genre\"] != \"history\"]\n",
        "  return corpus"
      ],
      "execution_count": 0,
      "outputs": []
    },
    {
      "cell_type": "markdown",
      "metadata": {
        "id": "v0r3oL3TdHIU",
        "colab_type": "text"
      },
      "source": [
        "This is where you will implement two functions to featurize the data:"
      ]
    },
    {
      "cell_type": "code",
      "metadata": {
        "id": "039fPQcF7OkN",
        "colab_type": "code",
        "colab": {}
      },
      "source": [
        "#NB: The current contents are for testing only\n",
        "#This function should return: \n",
        "#  -a sparse numpy matrix of document features\n",
        "#  -a list of the correct genre for each document\n",
        "#  -a list of the vocabulary used by the features, such that the ith term of the\n",
        "#    list is the word whose counts appear in the ith column of the matrix. \n",
        "\n",
        "# This function should create a feature representation using all tokens that\n",
        "# contain an alphabetic character.\n",
        "def createBasicFeatures(corpus):\n",
        "  texts=[]\n",
        "  classes=[]\n",
        "  for i in range(len(corpus)):\n",
        "    classes.append(corpus[i]['genre'])\n",
        "    texts.append(re.sub(\"[^a-zA-Z0-9]+\", ' ',corpus[i]['text']))\n",
        "  \n",
        "  \n",
        "  \n",
        "  vectorizer = CountVectorizer()\n",
        "  X = vectorizer.fit_transform(texts)\n",
        "  X=X.toarray()\n",
        "\n",
        "  print(\"The number of features ={}\".format(len(list(vectorizer.vocabulary_.keys()))))\n",
        "  return X,classes,list(vectorizer.vocabulary_.keys())\n",
        "\n",
        "# This function can add other features you want that help classification\n",
        "# accuracy, such as bigrams, word prefixes and suffixes, etc.\n",
        "def createInterestingFeatures(corpus):\n",
        "\n",
        "  texts=[]\n",
        "  classes=[]\n",
        "  for i in range(len(corpus)):\n",
        "    classes.append(corpus[i]['genre'])\n",
        "    texts.append(re.sub(\"[^a-zA-Z0-9]+\", ' ',corpus[i]['text']))\n",
        "  \n",
        "  vectorizer = CountVectorizer()\n",
        "  X = vectorizer.fit_transform(texts)\n",
        "  X=X.toarray()\n",
        "\n",
        "  for i in range(X.shape[0]):\n",
        "    for j in range(X.shape[1]):\n",
        "      if X[i][j] <=1:\n",
        "        X[i][j] = 0\n",
        "      else:\n",
        "        X[i][j] = 1\n",
        "\n",
        "  \n",
        "\n",
        "  print(\"The number of features ={}\".format(len(list(vectorizer.vocabulary_.keys()))))\n",
        "  return X,classes,list(vectorizer.vocabulary_.keys())"
      ],
      "execution_count": 0,
      "outputs": []
    },
    {
      "cell_type": "code",
      "metadata": {
        "id": "KfTBqBltXe7Y",
        "colab_type": "code",
        "colab": {}
      },
      "source": [
        "#given a numpy matrix representation of the features for the training set, the \n",
        "# vector of true classes for each example, and the vocabulary as described \n",
        "# above, this computes the accuracy of the model using leave one out cross \n",
        "# validation and reports the most indicative features for each class\n",
        "def evaluateModel(X,y,vocab,penalty=\"l1\"):\n",
        "  #create and fit the model\n",
        "  model = LogisticRegression(penalty=penalty,solver=\"liblinear\")\n",
        "  results = cross_validate(model,X,y,cv=LeaveOneOut())\n",
        "  \n",
        "  #determine the average accuracy\n",
        "  scores = results[\"test_score\"]\n",
        "  avg_score = sum(scores)/len(scores)\n",
        "  \n",
        "  #determine the most informative features\n",
        "  # this requires us to fit the model to everything, because we need a\n",
        "  # single model to draw coefficients from, rather than 26\n",
        "  model.fit(X,y)\n",
        "  neg_class_prob_sorted = model.coef_[0, :].argsort()\n",
        "  pos_class_prob_sorted = (-model.coef_[0, :]).argsort()\n",
        "\n",
        "  termsToTake = 20\n",
        "  pos_indicators = [vocab[i] for i in neg_class_prob_sorted[:termsToTake]]\n",
        "  neg_indicators = [vocab[i] for i in pos_class_prob_sorted[:termsToTake]]\n",
        "\n",
        "  return avg_score,pos_indicators,neg_indicators\n",
        "\n",
        "def runEvaluation(X,y,vocab):\n",
        "  print(\"----------L1 Norm-----------\")\n",
        "  avg_score,pos_indicators,neg_indicators = evaluateModel(X,y,vocab,\"l1\")\n",
        "  print(\"The model's average accuracy is %f\"%avg_score)\n",
        "  print(\"The most informative terms for pos are: %s\"%pos_indicators)\n",
        "  print(\"The most informative terms for neg are: %s\"%neg_indicators)\n",
        "  #this call will fit a model with L2 normalization\n",
        "  print(\"----------L2 Norm-----------\")\n",
        "  avg_score,pos_indicators,neg_indicators = evaluateModel(X,y,vocab,\"l2\")\n",
        "  print(\"The model's average accuracy is %f\"%avg_score)\n",
        "  print(\"The most informative terms for pos are: %s\"%pos_indicators)\n",
        "  print(\"The most informative terms for neg are: %s\"%neg_indicators)\n",
        "  "
      ],
      "execution_count": 0,
      "outputs": []
    },
    {
      "cell_type": "code",
      "metadata": {
        "id": "mtlbg_aqdcW_",
        "colab_type": "code",
        "colab": {}
      },
      "source": [
        "corpus = readShakespeare()"
      ],
      "execution_count": 0,
      "outputs": []
    },
    {
      "cell_type": "markdown",
      "metadata": {
        "id": "vpCqIhiqdhen",
        "colab_type": "text"
      },
      "source": [
        "Run the following to train and evaluate two models with basic features:"
      ]
    },
    {
      "cell_type": "code",
      "metadata": {
        "id": "4IpJ7PKjvc8I",
        "colab_type": "code",
        "outputId": "f13754ed-c46a-4a74-c6d1-0b33a19bc48a",
        "colab": {
          "base_uri": "https://localhost:8080/",
          "height": 196
        }
      },
      "source": [
        "X,y,vocab = createBasicFeatures(corpus)\n",
        "runEvaluation(X, y, vocab)"
      ],
      "execution_count": 0,
      "outputs": [
        {
          "output_type": "stream",
          "text": [
            "The number of features =19797\n",
            "----------L1 Norm-----------\n",
            "The model's average accuracy is 0.769231\n",
            "The most informative terms for pos are: ['pounds', 'gums', 'minimus', 'rogero', 'mountebanks', 'elevated', 'immoment', 'rests', 'unspoke', 'wrist', 'couplement', 'guerra', 'fortuna', 'whereuntil', 'parfect', 'arinado', 'pursents', 'vara', 'career', 'jesting']\n",
            "The most informative terms for neg are: ['beaks', 'cautelous', 'lading', 'brood', 'bemete', 'stubble', 'corse', 'vox', 'glowing', 'deserves', 'ber', 'simile', 'arinado', 'couplement', 'guerra', 'whereuntil', 'pompion', 'parfect', 'pursents', 'vara']\n",
            "----------L2 Norm-----------\n",
            "The model's average accuracy is 0.730769\n",
            "The most informative terms for pos are: ['rogero', 'gums', 'immoment', 'pounds', 'braving', 'rests', 'mountebanks', 'elevated', 'minimus', 'new', 'disarm', 'accompanied', 'goosequills', 'repeals', 'partially', 'despiseth', 'clad', 'hears', 'alexander', 'wrist']\n",
            "The most informative terms for neg are: ['stubble', 'brood', 'cautelous', 'beaks', 'stonecutter', 'vox', 'glowing', 'ber', 'corse', 'deserves', 'lading', 'avenged', 'ivory', 'maidenhood', 'bemete', 'crowns', 'wid', 'simile', 'insinuateth', 'reapers']\n"
          ],
          "name": "stdout"
        }
      ]
    },
    {
      "cell_type": "markdown",
      "metadata": {
        "id": "_FmW9F6ZdoyM",
        "colab_type": "text"
      },
      "source": [
        "Run the following to train and evaluate two models with features that are interesting for distinguishing comedy and tragedy:"
      ]
    },
    {
      "cell_type": "code",
      "metadata": {
        "id": "1iHudrPb5NPY",
        "colab_type": "code",
        "outputId": "5af4f4fb-f6ef-469b-969d-50be63071b8f",
        "colab": {
          "base_uri": "https://localhost:8080/",
          "height": 196
        }
      },
      "source": [
        "X,y,vocab = createInterestingFeatures(corpus)\n",
        "runEvaluation(X, y, vocab)"
      ],
      "execution_count": 0,
      "outputs": [
        {
          "output_type": "stream",
          "text": [
            "The number of features =19797\n",
            "----------L1 Norm-----------\n",
            "The model's average accuracy is 0.846154\n",
            "The most informative terms for pos are: ['immoment', 'shrewish', 'either', 'handful', 'bere', 'targe', 'surnam', 'libbard', 'scutcheon', 'alls', 'couplement', 'guerra', 'fortuna', 'pompion', 'parfect', 'whereuntil', 'pursents', 'arinado', 'novum', 'alisander']\n",
            "The most informative terms for neg are: ['thessalian', 'measurable', 'pleasers', 'tatters', 'grievous', 'wares', 'alisander', 'declares', 'scutcheon', 'bere', 'targe', 'surnam', 'scrap', 'libbard', 'pedlar', 'arinado', 'couplement', 'guerra', 'fortuna', 'pompion']\n",
            "----------L2 Norm-----------\n",
            "The model's average accuracy is 0.923077\n",
            "The most informative terms for pos are: ['immoment', 'shrewish', 'either', 'juggling', 'steers', 'adulterate', 'complaining', 'thasos', 'superstitiously', 'ersways', 'receipts', 'handful', 'buzzers', 'pat', 'reckon', 'bidden', 'sailors', 'profession', 'goss', 'priam']\n",
            "The most informative terms for neg are: ['thessalian', 'tatters', 'measurable', 'unconsidered', 'pleasers', 'grievous', 'rhetoric', 'railed', 'broke', 'evil', 'observant', 'additions', 'cnemies', 'squealing', 'epistles', 'awry', 'salv', 'favourable', 'languish', 'prose']\n"
          ],
          "name": "stdout"
        }
      ]
    }
  ]
}